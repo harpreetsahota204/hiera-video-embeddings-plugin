{
  "cells": [
    {
      "cell_type": "code",
      "execution_count": null,
      "metadata": {
        "id": "W1JIpZZ5kyW3"
      },
      "outputs": [],
      "source": [
        "!pip install fiftyone umap-learn timm"
      ]
    },
    {
      "cell_type": "code",
      "execution_count": null,
      "metadata": {
        "id": "-thEhU51kpHE"
      },
      "outputs": [],
      "source": [
        "from fiftyone.zoo import load_zoo_dataset"
      ]
    },
    {
      "cell_type": "code",
      "source": [
        "dataset = load_zoo_dataset(\"quickstart-video\", overwrite=True)"
      ],
      "metadata": {
        "id": "j7WWsNPpVRbp"
      },
      "execution_count": null,
      "outputs": []
    },
    {
      "cell_type": "code",
      "source": [
        "!fiftyone plugins download https://github.com/harpreetsahota204/hiera-video-embeddings-plugin"
      ],
      "metadata": {
        "id": "oat5ChjEQJzU"
      },
      "execution_count": null,
      "outputs": []
    },
    {
      "cell_type": "code",
      "source": [
        "import os\n",
        "\n",
        "os.environ['FIFTYONE_ALLOW_LEGACY_ORCHESTRATORS'] = 'true'"
      ],
      "metadata": {
        "id": "1ndhoICCYFsO"
      },
      "execution_count": null,
      "outputs": []
    },
    {
      "cell_type": "code",
      "source": [
        "import fiftyone as fo\n",
        "\n",
        "session = fo.launch_app(dataset, auto=False)\n",
        "session.url"
      ],
      "metadata": {
        "id": "2dIH0OjfQJ6g"
      },
      "execution_count": null,
      "outputs": []
    },
    {
      "cell_type": "markdown",
      "source": [
        "Before running the plugin (either in app or sdk), I recommend you kick off a delegated service by running `fiftyone delegated launch` in the terminal."
      ],
      "metadata": {
        "id": "MCE6pN7_3X2z"
      }
    },
    {
      "cell_type": "code",
      "source": [
        "import fiftyone.operators as foo\n",
        "\n",
        "embedding_operator = foo.get_operator(\"@harpreetsahota/hiera_video_embeddings/compute_hiera_video_embeddings\")"
      ],
      "metadata": {
        "id": "OeUW7NG9R8MH"
      },
      "execution_count": null,
      "outputs": []
    },
    {
      "cell_type": "code",
      "source": [
        "await embedding_operator(\n",
        "    dataset,\n",
        "    model_name=\"hiera_base_16x224\",\n",
        "    checkpoint=\"mae_k400_ft_k400\",\n",
        "    embedding_types=\"terminal\",\n",
        "    emb_field=\"test_operator_delegated_norm_term\",\n",
        "    normalize=True,\n",
        "    delegate=True\n",
        "    )"
      ],
      "metadata": {
        "id": "gQLUZXQPbi5L"
      },
      "execution_count": null,
      "outputs": []
    },
    {
      "cell_type": "code",
      "source": [
        "await embedding_operator(\n",
        "    dataset,\n",
        "    model_name=\"hiera_base_16x224\",\n",
        "    checkpoint=\"mae_k400_ft_k400\",\n",
        "    embedding_types=\"terminal\",\n",
        "    emb_field=\"test_operator_delegated_unnorm_term\",\n",
        "    normalize=False, #default you can normalize this type if you wanted\n",
        "    delegate=True\n",
        "    )"
      ],
      "metadata": {
        "id": "YHFQPa5qbrtk"
      },
      "execution_count": null,
      "outputs": []
    },
    {
      "cell_type": "code",
      "source": [
        "await embedding_operator(\n",
        "    dataset,\n",
        "    model_name=\"hiera_base_16x224\",\n",
        "    checkpoint=\"mae_k400_ft_k400\",\n",
        "    embedding_types=\"hierarchical\",\n",
        "    emb_field=\"test_operator_delegated_unnorm_term\",\n",
        "    normalize=False,#default can't normalize these types of embeddings\n",
        "    delegate=True\n",
        "    )"
      ],
      "metadata": {
        "id": "8EuOYFDNbr0J"
      },
      "execution_count": null,
      "outputs": []
    },
    {
      "cell_type": "code",
      "execution_count": null,
      "metadata": {
        "id": "e-agq08pzDUK"
      },
      "outputs": [],
      "source": [
        "import fiftyone.brain as fob\n",
        "\n",
        "results = fob.compute_visualization(\n",
        "    dataset,\n",
        "    embeddings=\"res_emb\", # or whichever embedding field\n",
        "    method=\"umap\",\n",
        "    brain_key=\"viz_video_emb\",\n",
        "    num_dims=2,\n",
        "    verbose=True,\n",
        ")"
      ]
    },
    {
      "cell_type": "code",
      "execution_count": null,
      "metadata": {
        "id": "NNcFOSfe0EYu"
      },
      "outputs": [],
      "source": [
        "fo.launch_app(dataset)"
      ]
    }
  ],
  "metadata": {
    "accelerator": "GPU",
    "colab": {
      "gpuType": "L4",
      "machine_shape": "hm",
      "provenance": []
    },
    "kernelspec": {
      "display_name": "Python 3",
      "name": "python3"
    },
    "language_info": {
      "name": "python"
    }
  },
  "nbformat": 4,
  "nbformat_minor": 0
}