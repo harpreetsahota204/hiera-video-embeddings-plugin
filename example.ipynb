{
  "cells": [
    {
      "cell_type": "code",
      "execution_count": null,
      "metadata": {
        "id": "W1JIpZZ5kyW3"
      },
      "outputs": [],
      "source": [
        "!pip install fiftyone umap-learn timm"
      ]
    },
    {
      "cell_type": "code",
      "execution_count": null,
      "metadata": {
        "id": "-thEhU51kpHE"
      },
      "outputs": [],
      "source": [
        "from fiftyone.zoo import load_zoo_dataset"
      ]
    },
    {
      "cell_type": "code",
      "execution_count": null,
      "metadata": {
        "id": "j7WWsNPpVRbp"
      },
      "outputs": [],
      "source": [
        "dataset = load_zoo_dataset(\"quickstart-video\", overwrite=True)"
      ]
    },
    {
      "cell_type": "code",
      "execution_count": null,
      "metadata": {
        "id": "oat5ChjEQJzU"
      },
      "outputs": [],
      "source": [
        "!fiftyone plugins download https://github.com/harpreetsahota204/hiera-video-embeddings-plugin"
      ]
    },
    {
      "cell_type": "code",
      "execution_count": null,
      "metadata": {
        "id": "1ndhoICCYFsO"
      },
      "outputs": [],
      "source": [
        "import os\n",
        "\n",
        "os.environ['FIFTYONE_ALLOW_LEGACY_ORCHESTRATORS'] = 'true'"
      ]
    },
    {
      "cell_type": "code",
      "execution_count": null,
      "metadata": {
        "id": "2dIH0OjfQJ6g"
      },
      "outputs": [],
      "source": [
        "import fiftyone as fo\n",
        "\n",
        "session = fo.launch_app(dataset, auto=False)\n",
        "session.url"
      ]
    },
    {
      "cell_type": "markdown",
      "metadata": {
        "id": "MCE6pN7_3X2z"
      },
      "source": [
        "Before running the plugin (either in app or sdk), I recommend you kick off a delegated service by running `fiftyone delegated launch` in the terminal."
      ]
    },
    {
      "cell_type": "code",
      "execution_count": null,
      "metadata": {
        "id": "OeUW7NG9R8MH"
      },
      "outputs": [],
      "source": [
        "import fiftyone.operators as foo\n",
        "\n",
        "embedding_operator = foo.get_operator(\"@harpreetsahota/hiera_video_embeddings/compute_hiera_video_embeddings\")"
      ]
    },
    {
      "cell_type": "code",
      "execution_count": null,
      "metadata": {
        "id": "gQLUZXQPbi5L"
      },
      "outputs": [],
      "source": [
        "await embedding_operator(\n",
        "    dataset,\n",
        "    model_name=\"hiera_base_16x224\",\n",
        "    checkpoint=\"mae_k400_ft_k400\",\n",
        "    embedding_types=\"terminal\",\n",
        "    emb_field=\"my_computed_embeddings\",\n",
        "    normalize=True,\n",
        "    delegate=True\n",
        "    )"
      ]
    },
    {
      "cell_type": "code",
      "execution_count": null,
      "metadata": {
        "id": "YHFQPa5qbrtk"
      },
      "outputs": [],
      "source": [
        "await embedding_operator(\n",
        "    dataset,\n",
        "    model_name=\"hiera_base_16x224\",\n",
        "    checkpoint=\"mae_k400_ft_k400\",\n",
        "    embedding_types=\"terminal\",\n",
        "    emb_field=\"my_other_computed_embeddings\",\n",
        "    normalize=False, #default you can normalize this type if you wanted\n",
        "    delegate=True\n",
        "    )"
      ]
    },
    {
      "cell_type": "code",
      "execution_count": null,
      "metadata": {
        "id": "8EuOYFDNbr0J"
      },
      "outputs": [],
      "source": [
        "await embedding_operator(\n",
        "    dataset,\n",
        "    model_name=\"hiera_base_16x224\",\n",
        "    checkpoint=\"mae_k400_ft_k400\",\n",
        "    embedding_types=\"hierarchical\",\n",
        "    emb_field=\"yet_more_computed_embeddings\",\n",
        "    normalize=False,#default can't normalize these types of embeddings\n",
        "    delegate=True\n",
        "    )"
      ]
    },
    {
      "cell_type": "code",
      "execution_count": null,
      "metadata": {
        "id": "e-agq08pzDUK"
      },
      "outputs": [],
      "source": [
        "import fiftyone.brain as fob\n",
        "\n",
        "results = fob.compute_visualization(\n",
        "    dataset,\n",
        "    embeddings=\"my_computed_embeddings\", # or whichever embedding field\n",
        "    method=\"umap\",\n",
        "    brain_key=\"my_dimensionality_reduced_embeddings\",\n",
        "    num_dims=2,\n",
        "    verbose=True,\n",
        ")"
      ]
    },
    {
      "cell_type": "code",
      "execution_count": null,
      "metadata": {
        "id": "NNcFOSfe0EYu"
      },
      "outputs": [],
      "source": [
        "fo.launch_app(dataset)"
      ]
    }
  ],
  "metadata": {
    "accelerator": "GPU",
    "colab": {
      "gpuType": "L4",
      "machine_shape": "hm",
      "provenance": []
    },
    "kernelspec": {
      "display_name": "Python 3",
      "name": "python3"
    },
    "language_info": {
      "name": "python"
    }
  },
  "nbformat": 4,
  "nbformat_minor": 0
}
